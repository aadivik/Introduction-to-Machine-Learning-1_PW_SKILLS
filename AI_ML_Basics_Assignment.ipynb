{
 "cells": [
  {
   "cell_type": "markdown",
   "id": "372cd383",
   "metadata": {},
   "source": [
    "# 📘 Assignment: Basics of AI, ML, DL, and Data Science"
   ]
  },
  {
   "cell_type": "markdown",
   "id": "1a5c7798",
   "metadata": {},
   "source": [
    "### **Q1: Explain the following with an example**"
   ]
  },
  {
   "cell_type": "markdown",
   "id": "ad964173",
   "metadata": {},
   "source": [
    "**C) Artificial Intelligence (AI)**"
   ]
  },
  {
   "cell_type": "markdown",
   "id": "ba3752af",
   "metadata": {},
   "source": [
    "```python\n",
    "# Example: A simple rule-based AI system\n",
    "def ai_chatbot(input_text):\n",
    "    if \"hello\" in input_text.lower():\n",
    "        return \"Hi there! How can I help you?\"\n",
    "    return \"I'm not sure how to respond to that.\"\n",
    "\n",
    "ai_chatbot(\"Hello\")\n",
    "```"
   ]
  },
  {
   "cell_type": "markdown",
   "id": "157895ff",
   "metadata": {},
   "source": [
    "**<) Machine Learning (ML)**"
   ]
  },
  {
   "cell_type": "markdown",
   "id": "94c5c870",
   "metadata": {},
   "source": [
    "```python\n",
    "# Example: Simple Linear Regression with sklearn\n",
    "from sklearn.linear_model import LinearRegression\n",
    "import numpy as np\n",
    "\n",
    "X = np.array([[1000], [1500], [2000]])\n",
    "y = np.array([100000, 150000, 200000])\n",
    "\n",
    "model = LinearRegression().fit(X, y)\n",
    "model.predict([[1700]])\n",
    "```"
   ]
  },
  {
   "cell_type": "markdown",
   "id": "5dca41d3",
   "metadata": {},
   "source": [
    "**I) Deep Learning (DL)**"
   ]
  },
  {
   "cell_type": "markdown",
   "id": "d1413ba5",
   "metadata": {},
   "source": [
    "```python\n",
    "# Example: Importing a pretrained DL model\n",
    "from tensorflow.keras.applications import MobileNetV2\n",
    "model = MobileNetV2(weights='imagenet')\n",
    "model.summary()\n",
    "```"
   ]
  },
  {
   "cell_type": "markdown",
   "id": "55aa90f9",
   "metadata": {},
   "source": [
    "### **Q2: What is supervised learning? List some examples.**"
   ]
  },
  {
   "cell_type": "markdown",
   "id": "c64ed474",
   "metadata": {},
   "source": [
    "> **Definition**: Supervised learning is where input data is labeled, and the model learns to map inputs to the correct output.\n",
    "> \n",
    "> **Examples**:\n",
    "- Spam detection\n",
    "- Sentiment analysis\n",
    "- House price prediction"
   ]
  },
  {
   "cell_type": "markdown",
   "id": "a0fde7c5",
   "metadata": {},
   "source": [
    "### **Q3: What is unsupervised learning? List some examples.**"
   ]
  },
  {
   "cell_type": "markdown",
   "id": "c1848245",
   "metadata": {},
   "source": [
    "> **Definition**: Unsupervised learning deals with data without labeled responses and tries to find patterns.\n",
    ">\n",
    "> **Examples**:\n",
    "- Customer segmentation\n",
    "- Anomaly detection\n",
    "- Market basket analysis"
   ]
  },
  {
   "cell_type": "markdown",
   "id": "aa8a313e",
   "metadata": {},
   "source": [
    "### **Q4: What is the difference between AI, ML, DL, and DS?**"
   ]
  },
  {
   "cell_type": "markdown",
   "id": "d3bea381",
   "metadata": {},
   "source": [
    "| Term | Definition | Example |\n",
    "|------|------------|---------|\n",
    "| **AI** | Creating systems that mimic human intelligence | Chatbots |\n",
    "| **ML** | Training models on data | Stock price prediction |\n",
    "| **DL** | Neural networks for complex tasks | Face recognition |\n",
    "| **DS (Data Science)** | Handling, analyzing, and visualizing data, often using ML | Exploratory Data Analysis, Predictive Modeling |"
   ]
  },
  {
   "cell_type": "markdown",
   "id": "0d4e8046",
   "metadata": {},
   "source": [
    "### **Q5: Differences between Supervised, Unsupervised & Semi-Supervised Learning**"
   ]
  },
  {
   "cell_type": "markdown",
   "id": "dc360202",
   "metadata": {},
   "source": [
    "| Type | Data Used | Example | Output |\n",
    "|------|-----------|---------|--------|\n",
    "| Supervised | Labeled | Spam classification | Yes |\n",
    "| Unsupervised | Unlabeled | Clustering | No |\n",
    "| Semi-Supervised | Few labels + lots of unlabeled | Web page classification | Partial |"
   ]
  },
  {
   "cell_type": "markdown",
   "id": "8223509e",
   "metadata": {},
   "source": [
    "### **Q6: What is train, test, and validation split?**"
   ]
  },
  {
   "cell_type": "markdown",
   "id": "4a76a82a",
   "metadata": {},
   "source": [
    "> **Train**: Used to train the model  \n",
    "> **Validation**: Tune hyperparameters  \n",
    "> **Test**: Final performance evaluation"
   ]
  },
  {
   "cell_type": "code",
   "execution_count": null,
   "id": "c47b5cb1",
   "metadata": {},
   "outputs": [],
   "source": [
    "from sklearn.model_selection import train_test_split\n",
    "X_train, X_temp, y_train, y_temp = train_test_split(X, y, test_size=0.4)\n",
    "X_val, X_test, y_val, y_test = train_test_split(X_temp, y_temp, test_size=0.5)"
   ]
  },
  {
   "cell_type": "markdown",
   "id": "07ba7339",
   "metadata": {},
   "source": [
    "### **Q7: How can unsupervised learning be used in anomaly detection?**"
   ]
  },
  {
   "cell_type": "markdown",
   "id": "fa4315b7",
   "metadata": {},
   "source": [
    "> **Explanation**: Unsupervised models like clustering or autoencoders learn normal patterns and detect outliers as anomalies."
   ]
  },
  {
   "cell_type": "code",
   "execution_count": null,
   "id": "6d3937ee",
   "metadata": {},
   "outputs": [],
   "source": [
    "from sklearn.ensemble import IsolationForest\n",
    "\n",
    "model = IsolationForest()\n",
    "model.fit(X)\n",
    "anomalies = model.predict(X)  # -1 for anomaly, 1 for normal"
   ]
  },
  {
   "cell_type": "markdown",
   "id": "826e8f5a",
   "metadata": {},
   "source": [
    "### **Q8: Commonly Used Algorithms**"
   ]
  },
  {
   "cell_type": "markdown",
   "id": "3be485b0",
   "metadata": {},
   "source": [
    "#### **Supervised Learning Algorithms**\n",
    "- Linear Regression\n",
    "- Logistic Regression\n",
    "- Decision Tree\n",
    "- Random Forest\n",
    "- SVM\n",
    "- k-NN\n",
    "\n",
    "#### **Unsupervised Learning Algorithms**\n",
    "- K-Means Clustering\n",
    "- DBSCAN\n",
    "- PCA (Principal Component Analysis)\n",
    "- Autoencoders\n",
    "- Hierarchical Clustering"
   ]
  },
  {
   "cell_type": "markdown",
   "id": "5a77aeef",
   "metadata": {},
   "source": [
    "---\n",
    "### ✅ Final Task\n",
    "- Save this notebook as `AI_ML_Basics_Assignment.ipynb`\n",
    "- Push to a **public GitHub repo**\n",
    "- Submit the **repository link** on your dashboard\n",
    "---"
   ]
  }
 ],
 "metadata": {},
 "nbformat": 4,
 "nbformat_minor": 5
}
